{
  "cells": [
    {
      "cell_type": "markdown",
      "metadata": {
        "id": "view-in-github",
        "colab_type": "text"
      },
      "source": [
        "<a href=\"https://colab.research.google.com/github/Helicorn/HwarangE/blob/master/Mini_Project_%EA%B9%80%EB%8C%80%ED%98%B8.ipynb\" target=\"_parent\"><img src=\"https://colab.research.google.com/assets/colab-badge.svg\" alt=\"Open In Colab\"/></a>"
      ]
    },
    {
      "cell_type": "markdown",
      "metadata": {
        "id": "MoWlK0jinrpN"
      },
      "source": [
        "\n",
        "## Mini project [행맨 게임 제작]\n",
        "\n",
        "안녕하세요.\n",
        "수강생 여러분~! Chapter17 ~ 20 수업은 잘 들으셨나요?\n",
        "\n",
        "여러분의 모든 역량을 총 동원해 문제를 풀어주셨합니다.\n",
        "\n",
        "\n",
        "\n",
        "#### 과제 설명\n",
        "\n",
        "이번 개발 주제는 '행맨' 게임이구요.\n",
        "\n",
        "행맨 게임은 아주 유명한 단어 퀴즈 프로그램이예요\n",
        "\n",
        "어떤 단어가 주어지면 그 단어의 길이만큼 빈 칸(밑줄) 이 주어지고\n",
        "플레이어는 알파벳을 하나씩 얘기하면서 단어를 추측해요!\n",
        "\n",
        "10번만에 맞히지 못하면 게임이 끝납니다. 🥲\n",
        "\n"
      ]
    },
    {
      "cell_type": "markdown",
      "metadata": {
        "id": "TQ0_AReItZ4z"
      },
      "source": [
        "#### 예시를 들어볼께요!!\n",
        "\n",
        "만약 E 가 단어에 포함돼있다면, 해당하는 위치에 E 를 표시해줍니다\n",
        "\n",
        "_ _ _ _ E E\n",
        "이렇게 되겠네요.\n",
        "\n",
        "이번에는 A를 해볼께요\n",
        "A 는 포함되지 않으므로 기회가 줄어들고 지금까지 맞힌 내용 그대로 출력합니다.\n",
        "\n",
        "_ _ _ _ E E\n",
        "변화가 없지요.\n",
        "\n",
        "이번에는 C 를 해봅시다.\n",
        "\n",
        "그럼\n",
        "C _ _ _ E E\n",
        "\n",
        "다음에는 F 를\n",
        "C _ F F E E\n",
        "\n",
        "마지막으로 O 를 해보면\n",
        "C O F F E E 로 게임은 성공으로 끝나게 됩니다."
      ]
    },
    {
      "cell_type": "markdown",
      "metadata": {
        "id": "eAI1BLDfuoNp"
      },
      "source": [
        "##본격적인 행맨 게임 규칙 설명\n",
        "\n",
        "- words 리스트에 추가된 단어들을 사용해주세요\n",
        "  - words = [\"apple\", \"banana\", \"orange\", \"grape\", \"lemon\"]\n",
        "\n",
        "- 단어의 길이에 맞게 밑줄을 출력해주세요  \n",
        "  (예)banana의 경우 _ _ _ _ _ _\n",
        "\n",
        "- 사용자부터 1글자씩 입력을 받되,\n",
        "   - 단어에 입력값이 포함되면 \"단어를 맞추셨군요. 더 힘내봐요\"라고 출력해주세요\"\n",
        "   - 단어에 입력값이 포함되어 있지 않다면 \"틀렸습니다. 남은 시도 횟수 \"란 메시지와 함꼐 남은 횟수를 출력해주세요\n",
        "\n",
        "- 매번 입력을 받을 때마다 현재까지 맞힌 글자들 표시(맞히면 글자는 밑줄 출력)\n",
        "    - 예) a 입력 시 : a _ _ _ _\n",
        "          p 입력 시 : a p p _ _\n",
        "          c 입력 시 : a p p _ _\n",
        "\n",
        "- 모든 단어를 맞췄을 경우 \"축하합니다! 단어를 맞추셨습니다\"와 시도 횟수를 출력해주세요\n",
        "\n",
        "\n",
        "행맨은 정말 유명 게임으로 찾아볼 수 있는 자료들이 많습니다.   \n",
        "문제가 어려우신 경우 구글링 통해 문제를 해결해보세요.  "
      ]
    },
    {
      "cell_type": "code",
      "execution_count": 43,
      "metadata": {
        "id": "SlxmsiBtnqdd",
        "colab": {
          "base_uri": "https://localhost:8080/"
        },
        "outputId": "15c67466-1551-472e-950d-c4f5190f0401"
      },
      "outputs": [
        {
          "output_type": "stream",
          "name": "stdout",
          "text": [
            "축하합니다 정답을 맞추셨군요!\n",
            "정답은 banana(이)였어요! 4번 만에 맞추셨네요!\n"
          ]
        }
      ],
      "source": [
        "import random\n",
        "from google.colab import output\n",
        "\n",
        "def start():\n",
        "    words = [\"apple\", \"banana\", \"orange\", \"grape\", \"lemon\"]\n",
        "    x = random.choice(words)\n",
        "    #print(x)\n",
        "    playHec(x)\n",
        "\n",
        "def playHec(x):\n",
        "    print(\"Hangman Start\")\n",
        "    cost=10                                                 #남은 기회\n",
        "    answer=[]                                               #정답 비교를 위한 리스트\n",
        "    result=[]                                               #정답\n",
        "    for i in range(len(x)):                                 #정답리스트와 정답의 크기를 맞추기 위해 임의값 넣기\n",
        "                result.append(\"_\")\n",
        "    while True:\n",
        "        if cost > 0:                                        #남은 기회가 있다면 실행(값 입력,비교 및 정답 확인)\n",
        "            z=0                                             #정답과 맞는 알파벳의 개수를 카운트함\n",
        "            print(f\"\\n남은 기회 : {cost}\")\n",
        "            print(\"\".join(result))\n",
        "            in__word=input(\"입력할 알파벳을 적어주세요 : \") #값 입력받기\n",
        "            if in__word in x:                               #입력한 값이 x값 안에 있다면 실행(맞추기 성공)\n",
        "                for i in range(len(x)):                     #입력한 값을 출력하기위한 반복문(알파벳과 아닌곳)\n",
        "\n",
        "                    if x[i] == in__word:\n",
        "                        answer.append(in__word)\n",
        "                        result[i]=in__word\n",
        "                        z += 1\n",
        "                    else:\n",
        "                        answer.append(\"_\")\n",
        "\n",
        "                if result==list(x):                              #입력한 값들이 모두 맞을경우\n",
        "                    output.clear()\n",
        "                    print(f\"축하합니다 정답을 맞추셨군요!\\n정답은 {''.join(result)}(이)였어요! {11-cost}번 만에 맞추셨네요!\")\n",
        "                    break\n",
        "\n",
        "                else:                                        #입력한 값들이 모두 맞지않을경우\n",
        "                    answer=[]\n",
        "                    cost -= 1\n",
        "                output.clear()\n",
        "                print(\"단어를 맞추셨군요! 좀더 힘내요\")\n",
        "            else:                                            #입력한 값이 x값 안에 없다면 실행(맞추기 실패)\n",
        "                cost -= 1\n",
        "                print(f\"틀렸습니다\")\n",
        "                output.clear()\n",
        "        else:                                                #남은 기회가 없다면 실행(실패문구 및 실행 종료)\n",
        "            output.clear()\n",
        "            print(\"남은 기회를 모두 소진하였습니다. 다음기회에\")\n",
        "            break\n",
        "start()"
      ]
    }
  ],
  "metadata": {
    "colab": {
      "provenance": [],
      "include_colab_link": true
    },
    "kernelspec": {
      "display_name": "Python 3",
      "name": "python3"
    },
    "language_info": {
      "name": "python"
    }
  },
  "nbformat": 4,
  "nbformat_minor": 0
}