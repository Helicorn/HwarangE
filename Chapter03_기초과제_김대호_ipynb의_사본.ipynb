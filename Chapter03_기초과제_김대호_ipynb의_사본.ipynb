{
  "nbformat": 4,
  "nbformat_minor": 0,
  "metadata": {
    "colab": {
      "provenance": [],
      "include_colab_link": true
    },
    "kernelspec": {
      "name": "python3",
      "display_name": "Python 3"
    },
    "language_info": {
      "name": "python"
    }
  },
  "cells": [
    {
      "cell_type": "markdown",
      "metadata": {
        "id": "view-in-github",
        "colab_type": "text"
      },
      "source": [
        "<a href=\"https://colab.research.google.com/github/Helicorn/HwarangE/blob/master/Chapter03_%EA%B8%B0%EC%B4%88%EA%B3%BC%EC%A0%9C_%EA%B9%80%EB%8C%80%ED%98%B8_ipynb%EC%9D%98_%EC%82%AC%EB%B3%B8.ipynb\" target=\"_parent\"><img src=\"https://colab.research.google.com/assets/colab-badge.svg\" alt=\"Open In Colab\"/></a>"
      ]
    },
    {
      "cell_type": "markdown",
      "source": [
        "안녕하세요. 수강생 여러분~! Chapter10 ~ 13 수업은 잘 들으셨나요?\n",
        "\n",
        "Chapter10 ~ 13의 수업 내용을 바탕으로 아래 문제를 풀어주시면 됩니다.\n",
        "\n",
        "####**제출 방법 안내**\n",
        "상단 파일명(Chapter03_기초과제.ipynb)을 Chapter01_기초과제_000(본인이름).ipynb로 변경후 아래 링크로 접속 후 본인 이름의 폴더에 제출해주면 됩니다.\n",
        "\n",
        "제출 링크 :\n",
        "\n",
        "####**답변 입력 방법 안내**\n",
        "\"답변\"이라고 적힌란을 마우스로 더블 클릭하시면 글을 작성할 수 있습니다.\n",
        "\n",
        "텍스트에 글을 더 잘 작성하기 위해서는 마크다운 언어를 공부하시면 됩니다.\n",
        "\n",
        "**(구글 검색 창에 \"코랩 마크다운\" 검색)**"
      ],
      "metadata": {
        "id": "fD4Qab2qYgOm"
      }
    },
    {
      "cell_type": "markdown",
      "source": [
        "##문제1\n",
        "movie_rank 리스트에는 아래와 같이 네 개의 영화 제목이 바인딩되어 있다. \"비밀\"을 \"나폴레옹\"과 \"괴물\" 사이에 추가하라.\n",
        "\n",
        "\n",
        "\n",
        "```\n",
        "movie = ['서울의 봄', '나폴레옹', '괴물', '베트맨']\n",
        "```\n",
        "\n"
      ],
      "metadata": {
        "id": "swqdcIl8Yn-c"
      }
    },
    {
      "cell_type": "code",
      "source": [
        "movie = ['서울의 봄', '나폴레옹', '괴물', '베트맨']\n",
        "movie.insert(2,\"비밀\")  #insert를 이용해 원하는 곳에 원하는 값을 추가하는 명령어\n",
        "movie"
      ],
      "metadata": {
        "id": "vjUhNFdBYo2n",
        "colab": {
          "base_uri": "https://localhost:8080/"
        },
        "outputId": "1a5ff40a-5438-4175-a76f-cce57553ab49"
      },
      "execution_count": 8,
      "outputs": [
        {
          "output_type": "execute_result",
          "data": {
            "text/plain": [
              "['서울의 봄', '나폴레옹', '비밀', '괴물', '베트맨']"
            ]
          },
          "metadata": {},
          "execution_count": 8
        }
      ]
    },
    {
      "cell_type": "markdown",
      "source": [
        "##문제2\n",
        "movie_rank 리스트에서 '베트맨'를 삭제하라.\n",
        "\n",
        "```\n",
        "movie = ['서울의 봄', '나폴레옹', '비밀', '괴물', '베트맨']\n",
        "```\n",
        "\n"
      ],
      "metadata": {
        "id": "KZBNuM5MYpZR"
      }
    },
    {
      "cell_type": "code",
      "source": [
        "movie = ['서울의 봄', '나폴레옹', '비밀', '괴물', '베트맨']\n",
        "del movie[4] #del은 리스트의 값을 삭제 할 수 있는 명령어\n",
        "movie"
      ],
      "metadata": {
        "id": "cPezrT7cYreh",
        "colab": {
          "base_uri": "https://localhost:8080/"
        },
        "outputId": "02d71011-9c27-48e9-9378-f2027d6090e4"
      },
      "execution_count": 10,
      "outputs": [
        {
          "output_type": "execute_result",
          "data": {
            "text/plain": [
              "['서울의 봄', '나폴레옹', '비밀', '괴물']"
            ]
          },
          "metadata": {},
          "execution_count": 10
        }
      ]
    },
    {
      "cell_type": "markdown",
      "source": [
        "##문제3\n",
        "\n",
        "[언어1]과 [언어2] 리스트가 있을 때 언어1과 언어2의 원소를 모두 갖고 있는 [언어모음]이라는 list를 만들어주세요\n",
        "\n",
        "lang1 = [\"C\", \"C++\", \"JAVA\"]  \n",
        "lang2 = [\"Python\", \"Go\", \"C#\"]  \n",
        "\n",
        "실행 예:\n",
        "언어들\n",
        "['C', 'C++', 'JAVA', 'Python', 'Go', 'C#']"
      ],
      "metadata": {
        "id": "i8EJYPY0YsAe"
      }
    },
    {
      "cell_type": "code",
      "source": [
        "lang1 = [\"C\", \"C++\", \"JAVA\"]\n",
        "lang2 = [\"Python\", \"Go\", \"C#\"]\n",
        "li1=set(lang1)\n",
        "li2=set(lang2)\n",
        "#set을 이용해 리스트를 집합의 형태로 바꾸어 줌\n",
        "li1 | li2\n",
        "# | 를 이용해 집합들을 더해줌[합집합]"
      ],
      "metadata": {
        "id": "H0-yRJXZYs0b",
        "colab": {
          "base_uri": "https://localhost:8080/"
        },
        "outputId": "f240b05f-b88f-455c-f0a9-bce03a06a42e"
      },
      "execution_count": 12,
      "outputs": [
        {
          "output_type": "execute_result",
          "data": {
            "text/plain": [
              "{'C', 'C#', 'C++', 'Go', 'JAVA', 'Python'}"
            ]
          },
          "metadata": {},
          "execution_count": 12
        }
      ]
    },
    {
      "cell_type": "markdown",
      "source": [
        "##문제4\n",
        "다음 리스트에서 최댓값과 최솟값을 출력해주세요.\n",
        "\n",
        "```\n",
        "nums = [1, 2, 3, 4, 5, 6, 7, 9, 10]\n",
        "```\n",
        "\n"
      ],
      "metadata": {
        "id": "5VFysaYRwT69"
      }
    },
    {
      "cell_type": "code",
      "source": [
        "nums = [1, 2, 3, 4, 5, 6, 7, 9, 10]\n",
        "x= min(nums) #min은 최소값을 구할 때 사용하는 명령어\n",
        "y= max(nums) #max는 최대값을 구할 때 사용하는 명령어\n",
        "print(\"최소값 : \",x,\" 최대값 : \",y)"
      ],
      "metadata": {
        "colab": {
          "base_uri": "https://localhost:8080/"
        },
        "id": "e6VKPDvz-UxQ",
        "outputId": "d96f4ae1-77ad-4628-b19d-02825d785173"
      },
      "execution_count": 38,
      "outputs": [
        {
          "output_type": "stream",
          "name": "stdout",
          "text": [
            "최소값 :  1  최대값 :  10\n"
          ]
        }
      ]
    },
    {
      "cell_type": "markdown",
      "source": [
        "##문제5\n",
        "\n",
        "다음 리스트에 저장된 데이터의 개수를 화면에 구해주세요\n",
        "\n",
        "cook = [\"피자\", \"김밥\", \"만두\", \"양념치킨\", \"족발\", \"피자\", \"김치만두\", \"쫄면\"]"
      ],
      "metadata": {
        "id": "5_IA50IQE2AM"
      }
    },
    {
      "cell_type": "code",
      "source": [
        "cook = [\"피자\", \"김밥\", \"만두\", \"양념치킨\", \"족발\", \"피자\", \"김치만두\", \"쫄면\"]\n",
        "len(cook)#len을 이용해 해당 리스트의 길이를 구한다."
      ],
      "metadata": {
        "id": "iRDvWnF8wTXa",
        "colab": {
          "base_uri": "https://localhost:8080/"
        },
        "outputId": "a1f57bf8-ffe7-461b-cc58-f92cc39ad90c"
      },
      "execution_count": 14,
      "outputs": [
        {
          "output_type": "execute_result",
          "data": {
            "text/plain": [
              "8"
            ]
          },
          "metadata": {},
          "execution_count": 14
        }
      ]
    },
    {
      "cell_type": "markdown",
      "source": [
        "##문제6\n",
        "\n",
        "다음 리스트의 평균을 출력해주세요\n",
        "\n",
        "nums = [1, 2, 3, 4, 5]"
      ],
      "metadata": {
        "id": "7DVH0FOBE4pt"
      }
    },
    {
      "cell_type": "code",
      "source": [
        "nums = [1, 2, 3, 4, 5]\n",
        "x=sum(nums)/len(nums)   #sum을 이용해 nums리스트 안의 값들을 모두 더한 뒤 len을 이용해 list의 길이를 구해 평균을 구한다\n",
        "x"
      ],
      "metadata": {
        "id": "NXmaxplTE4QY",
        "colab": {
          "base_uri": "https://localhost:8080/"
        },
        "outputId": "8b0bf1dd-3cfe-42cf-b41e-aea933b2e082"
      },
      "execution_count": 16,
      "outputs": [
        {
          "output_type": "execute_result",
          "data": {
            "text/plain": [
              "3.0"
            ]
          },
          "metadata": {},
          "execution_count": 16
        }
      ]
    },
    {
      "cell_type": "markdown",
      "source": [
        "## 문제7\n",
        "\n",
        "price 변수에는 날짜와 종가 정보가 저장돼 있습니다.\n",
        "날짜 정보를 제외하고 가격 정보만을 출력해주세요\n",
        "\n",
        "price = ['20180728', 100, 130, 140, 150, 160, 170]\n",
        "\n",
        "출력:\n",
        "[100, 130, 140, 150, 160, 170]"
      ],
      "metadata": {
        "id": "Cp7IpuJBFcq2"
      }
    },
    {
      "cell_type": "code",
      "source": [
        "price = ['20180728', 100, 130, 140, 150, 160, 170]\n",
        "price[1:]"
      ],
      "metadata": {
        "id": "BpMb0bHPFdKF",
        "colab": {
          "base_uri": "https://localhost:8080/"
        },
        "outputId": "58924fd6-28d6-46b0-ba1a-b4f7d2e3cf28"
      },
      "execution_count": 59,
      "outputs": [
        {
          "output_type": "execute_result",
          "data": {
            "text/plain": [
              "[100, 130, 140, 150, 160, 170]"
            ]
          },
          "metadata": {},
          "execution_count": 59
        }
      ]
    },
    {
      "cell_type": "markdown",
      "source": [
        "## 문제8\n",
        "\n",
        "아래 코드 실행 시 오류가 발생한 사유를 설명해주세요\n",
        "\n",
        "t = (1, 2, 3)  \n",
        "t[0] = 'a'  \n",
        "Traceback (most recent call last):  \n",
        "   File \"<pyshell#46>\", line 1, in <module>  \n",
        "      t[0] = 'a'   \n",
        "TypeError: 'tuple' object does not support item assignment  "
      ],
      "metadata": {
        "id": "arxKtWk9Fy-9"
      }
    },
    {
      "cell_type": "markdown",
      "source": [
        "튜플의 경우 값을 변경 및 추가 할 수없기 때문에 값을 변경하려 해서 오류가 발생했다."
      ],
      "metadata": {
        "id": "_2U4Hqf_Gf9v"
      }
    },
    {
      "cell_type": "markdown",
      "source": [
        "## 문제9\n",
        "다음 딕셔너리를 사용하여 메로나 가격을 출력하라.\n",
        "\n",
        "ice = {'메로나': 1000,\n",
        "       '폴로포': 1200,\n",
        "       '빵빠레': 1800,\n",
        "       '죠스바': 1200,\n",
        "       '월드콘': 1500}\n",
        "\n",
        "실행 예:\n",
        "메로나 가격: 1000"
      ],
      "metadata": {
        "id": "1DwclZivGe72"
      }
    },
    {
      "cell_type": "code",
      "source": [
        "ice = {'메로나': 1000, '폴로포': 1200, '빵빠레': 1800, '죠스바': 1200, '월드콘': 1500}\n",
        "print(\"메로나 가격 : \",ice[\"메로나\"])\n",
        "#딕셔너리이름['원하는 값의 키']를 이용해 값을 추출함"
      ],
      "metadata": {
        "id": "jADTPFzOHcKk",
        "colab": {
          "base_uri": "https://localhost:8080/"
        },
        "outputId": "09dc1426-81cd-4302-bd5e-c124c0d40f9c"
      },
      "execution_count": 43,
      "outputs": [
        {
          "output_type": "stream",
          "name": "stdout",
          "text": [
            "메로나 가격 :  1000\n"
          ]
        }
      ]
    },
    {
      "cell_type": "markdown",
      "source": [
        "##문제10\n",
        "\n",
        "다음 딕셔너리에서 메로나의 가격을 1300으로 수정하라.\n",
        "\n",
        "ice = {'메로나': 1000,\n",
        "       '폴로포': 1200,\n",
        "       '빵빠레': 1800,\n",
        "       '죠스바': 1200,\n",
        "       '월드콘': 1500}"
      ],
      "metadata": {
        "id": "mBs2AaqcJAXN"
      }
    },
    {
      "cell_type": "code",
      "source": [
        "ice = {'메로나': 1000, '폴로포': 1200, '빵빠레': 1800, '죠스바': 1200, '월드콘': 1500}\n",
        "ice['메로나']=1300   #딕셔너리의 값을 변경할 때에는 딕셔너리이름['값 변경 원하는 키']=변경할 값\n",
        "ice"
      ],
      "metadata": {
        "id": "C2RyUgoTJKsF",
        "colab": {
          "base_uri": "https://localhost:8080/"
        },
        "outputId": "2e82c1e0-93e3-43ef-d470-1fa93b327af9"
      },
      "execution_count": 51,
      "outputs": [
        {
          "output_type": "execute_result",
          "data": {
            "text/plain": [
              "{'메로나': 1300, '폴로포': 1200, '빵빠레': 1800, '죠스바': 1200, '월드콘': 1500}"
            ]
          },
          "metadata": {},
          "execution_count": 51
        }
      ]
    },
    {
      "cell_type": "markdown",
      "source": [
        "## 문제11\n",
        "아래 순서대로 주어진 수강생 이름과 등급을 하나의 딕셔너리로 만드는 코드를 작성해주세요\n",
        "\n",
        "\n",
        "이름 : 나이썬, 김자바, 김씨, 박씨샵  \n",
        "등급 :   B       B      A      C\n"
      ],
      "metadata": {
        "id": "_ZdcVEtTJKS1"
      }
    },
    {
      "cell_type": "code",
      "source": [
        "이름 = [\"나이썬\", \"김자바\", \"김씨\", \"박씨샵\"]\n",
        "등급 = [\"B\",\"B\", \"A\", \"C\"]\n",
        "X={이름[0]:등급[0], 이름[1]:등급[1], 이름[2]:등급[2], 이름[3]:등급[3]} #수강생의 이름과 등급을 리스트에서 하나씩 지정해 하나하나 값을 넣어줌(for문을 이용하면 더욱 쉬울것)\n",
        "X"
      ],
      "metadata": {
        "id": "7RyqlYwpJOp7",
        "colab": {
          "base_uri": "https://localhost:8080/"
        },
        "outputId": "2677c8cd-9981-475b-a400-99fa5443fd94"
      },
      "execution_count": 54,
      "outputs": [
        {
          "output_type": "execute_result",
          "data": {
            "text/plain": [
              "{'나이썬': 'B', '김자바': 'B', '김씨': 'A', '박씨샵': 'C'}"
            ]
          },
          "metadata": {},
          "execution_count": 54
        }
      ]
    },
    {
      "cell_type": "markdown",
      "source": [
        "## 문제12\n",
        "아래 ice 딕셔너리에 데이터를 추가 후 출력해주세\n",
        "\n",
        "ice = {\"메로나\": [300, 20],  \n",
        "              \"비비빅\": [400, 3],  \n",
        "              \"죠스바\": [250, 100]}  \n",
        "\n",
        "\n",
        "추가해야하는 데이터 : 이름 : 보석바, 가격:650, 재고:10"
      ],
      "metadata": {
        "id": "yzi6f2-YKsk4"
      }
    },
    {
      "cell_type": "code",
      "source": [
        "ice = {\"메로나\": [300, 20],\"비비빅\": [400, 3],\"죠스바\": [250, 100]}\n",
        "ice[\"보석바\"]=[650,10]  #딕셔너리이름[\"추가하고싶은키\"]=추가하고 싶은 값 을 이용해 딕셔너리에 값을 추가한다\n",
        "ice"
      ],
      "metadata": {
        "colab": {
          "base_uri": "https://localhost:8080/"
        },
        "id": "OMOzrlz2C1i7",
        "outputId": "0a77a9b4-4f93-4f27-c014-7c9b7d4d6282"
      },
      "execution_count": 55,
      "outputs": [
        {
          "output_type": "execute_result",
          "data": {
            "text/plain": [
              "{'메로나': [300, 20], '비비빅': [400, 3], '죠스바': [250, 100], '보석바': [650, 10]}"
            ]
          },
          "metadata": {},
          "execution_count": 55
        }
      ]
    },
    {
      "cell_type": "markdown",
      "source": [
        "##문제13\n",
        "\n",
        "아래 딕셔너리에서 key만 출력해주세요  \n",
        "\n",
        "ice = {'메로나': 1000, '폴로포': 1200, '빵빠레': 1800, '죠스바': 1200, '월드콘': 1500}\n"
      ],
      "metadata": {
        "id": "RQJC80PBLWGt"
      }
    },
    {
      "cell_type": "code",
      "source": [
        "ice = {'메로나': 1000, '폴로포': 1200, '빵빠레': 1800, '죠스바': 1200, '월드콘': 1500}\n",
        "ice.keys()   #.keys()를 이용해 키값을 출력할수 있다."
      ],
      "metadata": {
        "id": "m5m-a09iLVbO",
        "colab": {
          "base_uri": "https://localhost:8080/"
        },
        "outputId": "09ae7e18-87f7-4d35-c6bf-1ed647780a3c"
      },
      "execution_count": 56,
      "outputs": [
        {
          "output_type": "execute_result",
          "data": {
            "text/plain": [
              "dict_keys(['메로나', '폴로포', '빵빠레', '죠스바', '월드콘'])"
            ]
          },
          "metadata": {},
          "execution_count": 56
        }
      ]
    }
  ]
}